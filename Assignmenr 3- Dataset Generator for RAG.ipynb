{
 "cells": [
  {
   "cell_type": "code",
   "execution_count": 0,
   "metadata": {
    "application/vnd.databricks.v1+cell": {
     "cellMetadata": {},
     "inputWidgets": {},
     "nuid": "fd6f9018-5e57-4605-bcf1-196c43f12a7a",
     "showTitle": false,
     "tableResultSettingsMap": {},
     "title": ""
    }
   },
   "outputs": [],
   "source": []
  },
  {
   "cell_type": "code",
   "execution_count": 0,
   "metadata": {
    "application/vnd.databricks.v1+cell": {
     "cellMetadata": {
      "byteLimit": 2048000,
      "rowLimit": 10000
     },
     "inputWidgets": {},
     "nuid": "9a452eba-dd66-41e1-9fd6-a6931bfefed3",
     "showTitle": false,
     "tableResultSettingsMap": {},
     "title": ""
    }
   },
   "outputs": [
    {
     "output_type": "stream",
     "name": "stdout",
     "output_type": "stream",
     "text": [
      "\u001B[43mNote: you may need to restart the kernel using dbutils.library.restartPython() to use updated packages.\u001B[0m\nCollecting PyMuPDF\n  Downloading PyMuPDF-1.24.14-cp39-abi3-manylinux2014_x86_64.manylinux_2_17_x86_64.whl (19.8 MB)\n     ━━━━━━━━━━━━━━━━━━━━━━━━━━━━━━━━━━━━━━━━ 19.8/19.8 MB 32.7 MB/s eta 0:00:00\nInstalling collected packages: PyMuPDF\nSuccessfully installed PyMuPDF-1.24.14\n\u001B[43mNote: you may need to restart the kernel using dbutils.library.restartPython() to use updated packages.\u001B[0m\n\u001B[43mNote: you may need to restart the kernel using dbutils.library.restartPython() to use updated packages.\u001B[0m\nCollecting openai==0.28\n  Downloading openai-0.28.0-py3-none-any.whl (76 kB)\n     ━━━━━━━━━━━━━━━━━━━━━━━━━━━━━━━━━━━━━━━ 76.5/76.5 kB 896.4 kB/s eta 0:00:00\nRequirement already satisfied: requests>=2.20 in /databricks/python3/lib/python3.10/site-packages (from openai==0.28) (2.28.1)\nRequirement already satisfied: tqdm in /databricks/python3/lib/python3.10/site-packages (from openai==0.28) (4.64.1)\nRequirement already satisfied: aiohttp in /databricks/python3/lib/python3.10/site-packages (from openai==0.28) (3.9.1)\nRequirement already satisfied: certifi>=2017.4.17 in /databricks/python3/lib/python3.10/site-packages (from requests>=2.20->openai==0.28) (2022.12.7)\nRequirement already satisfied: charset-normalizer<3,>=2 in /databricks/python3/lib/python3.10/site-packages (from requests>=2.20->openai==0.28) (2.0.4)\nRequirement already satisfied: idna<4,>=2.5 in /databricks/python3/lib/python3.10/site-packages (from requests>=2.20->openai==0.28) (3.4)\nRequirement already satisfied: urllib3<1.27,>=1.21.1 in /databricks/python3/lib/python3.10/site-packages (from requests>=2.20->openai==0.28) (1.26.14)\nRequirement already satisfied: attrs>=17.3.0 in /databricks/python3/lib/python3.10/site-packages (from aiohttp->openai==0.28) (22.1.0)\nRequirement already satisfied: yarl<2.0,>=1.0 in /databricks/python3/lib/python3.10/site-packages (from aiohttp->openai==0.28) (1.9.4)\nRequirement already satisfied: async-timeout<5.0,>=4.0 in /databricks/python3/lib/python3.10/site-packages (from aiohttp->openai==0.28) (4.0.3)\nRequirement already satisfied: aiosignal>=1.1.2 in /databricks/python3/lib/python3.10/site-packages (from aiohttp->openai==0.28) (1.3.1)\nRequirement already satisfied: multidict<7.0,>=4.5 in /databricks/python3/lib/python3.10/site-packages (from aiohttp->openai==0.28) (6.0.4)\nRequirement already satisfied: frozenlist>=1.1.1 in /databricks/python3/lib/python3.10/site-packages (from aiohttp->openai==0.28) (1.4.1)\nInstalling collected packages: openai\n  Attempting uninstall: openai\n    Found existing installation: openai 0.28.1\n    Not uninstalling openai at /databricks/python3/lib/python3.10/site-packages, outside environment /local_disk0/.ephemeral_nfs/envs/pythonEnv-0c50acec-d699-4bab-8023-c07206296a75\n    Can't uninstall 'openai'. No files were found to uninstall.\nSuccessfully installed openai-0.28.0\n\u001B[43mNote: you may need to restart the kernel using dbutils.library.restartPython() to use updated packages.\u001B[0m\n"
     ]
    }
   ],
   "source": [
    "!pip install PyMuPDF\n",
    "!pip install openai==0.28"
   ]
  },
  {
   "cell_type": "code",
   "execution_count": 0,
   "metadata": {
    "application/vnd.databricks.v1+cell": {
     "cellMetadata": {
      "byteLimit": 2048000,
      "rowLimit": 10000
     },
     "inputWidgets": {},
     "nuid": "85bcc328-e92c-457b-b165-c3216ed8de06",
     "showTitle": false,
     "tableResultSettingsMap": {},
     "title": ""
    }
   },
   "outputs": [
    {
     "output_type": "stream",
     "name": "stdout",
     "output_type": "stream",
     "text": [
      "\u001B[43mNote: you may need to restart the kernel using dbutils.library.restartPython() to use updated packages.\u001B[0m\nRequirement already satisfied: openai in /local_disk0/.ephemeral_nfs/envs/pythonEnv-0c50acec-d699-4bab-8023-c07206296a75/lib/python3.10/site-packages (0.28.0)\nRequirement already satisfied: tenacity in /databricks/python3/lib/python3.10/site-packages (8.1.0)\nRequirement already satisfied: requests>=2.20 in /databricks/python3/lib/python3.10/site-packages (from openai) (2.28.1)\nRequirement already satisfied: tqdm in /databricks/python3/lib/python3.10/site-packages (from openai) (4.64.1)\nRequirement already satisfied: aiohttp in /databricks/python3/lib/python3.10/site-packages (from openai) (3.9.1)\nRequirement already satisfied: urllib3<1.27,>=1.21.1 in /databricks/python3/lib/python3.10/site-packages (from requests>=2.20->openai) (1.26.14)\nRequirement already satisfied: charset-normalizer<3,>=2 in /databricks/python3/lib/python3.10/site-packages (from requests>=2.20->openai) (2.0.4)\nRequirement already satisfied: certifi>=2017.4.17 in /databricks/python3/lib/python3.10/site-packages (from requests>=2.20->openai) (2022.12.7)\nRequirement already satisfied: idna<4,>=2.5 in /databricks/python3/lib/python3.10/site-packages (from requests>=2.20->openai) (3.4)\nRequirement already satisfied: async-timeout<5.0,>=4.0 in /databricks/python3/lib/python3.10/site-packages (from aiohttp->openai) (4.0.3)\nRequirement already satisfied: yarl<2.0,>=1.0 in /databricks/python3/lib/python3.10/site-packages (from aiohttp->openai) (1.9.4)\nRequirement already satisfied: aiosignal>=1.1.2 in /databricks/python3/lib/python3.10/site-packages (from aiohttp->openai) (1.3.1)\nRequirement already satisfied: multidict<7.0,>=4.5 in /databricks/python3/lib/python3.10/site-packages (from aiohttp->openai) (6.0.4)\nRequirement already satisfied: frozenlist>=1.1.1 in /databricks/python3/lib/python3.10/site-packages (from aiohttp->openai) (1.4.1)\nRequirement already satisfied: attrs>=17.3.0 in /databricks/python3/lib/python3.10/site-packages (from aiohttp->openai) (22.1.0)\n\u001B[43mNote: you may need to restart the kernel using dbutils.library.restartPython() to use updated packages.\u001B[0m\n"
     ]
    }
   ],
   "source": [
    "%pip install openai tenacity"
   ]
  },
  {
   "cell_type": "code",
   "execution_count": 0,
   "metadata": {
    "application/vnd.databricks.v1+cell": {
     "cellMetadata": {
      "byteLimit": 2048000,
      "rowLimit": 10000
     },
     "inputWidgets": {},
     "nuid": "31c4da00-f98c-441a-97e4-8e9aec656130",
     "showTitle": false,
     "tableResultSettingsMap": {},
     "title": ""
    }
   },
   "outputs": [],
   "source": [
    "dbutils.library.restartPython()"
   ]
  },
  {
   "cell_type": "code",
   "execution_count": 0,
   "metadata": {
    "application/vnd.databricks.v1+cell": {
     "cellMetadata": {
      "byteLimit": 2048000,
      "rowLimit": 10000
     },
     "inputWidgets": {},
     "nuid": "9bdc82fc-3387-4d06-ab67-5933aa865e72",
     "showTitle": false,
     "tableResultSettingsMap": {},
     "title": ""
    }
   },
   "outputs": [
    {
     "output_type": "display_data",
     "data": {
      "text/plain": [
       "Enter your search prompt:  what is bluettoth"
      ]
     },
     "metadata": {},
     "output_type": "display_data"
    },
    {
     "output_type": "stream",
     "name": "stdout",
     "output_type": "stream",
     "text": [
      "Successfully downloaded document_1.pdf\n\nContent of document_1.pdf:\n1 \n  \n \nBluetooth  \n \n     \n \nAuthor: Inigo Puy \nMtknr: 230345 \nCourse: E-Business \nProfessor: Eduard Heindl \nDate: 05/05/08 \n\n2 \n  \n \n \n \n  \n \n \n \nIn this page I declare that this work cites all sources used to make it and that this \nwork was done by me. I declare that all the work has been redact ed by me except the \nparagraphs that are written in cursive characters and which have t he exact link to the \nplace they were taken from. All the imagines and diagrams have t hey own links to the \nsou\n...\nSuccessfully downloaded document_2.pdf\n\nContent of document_2.pdf:\n1 \n  \n \nBluetooth  \n \n     \n \nAuthor: Inigo Puy \nMtknr: 230345 \nCourse: E-Business \nProfessor: Eduard Heindl \nDate: 05/05/08 \n\n2 \n  \n \n \n \n  \n \n \n \nIn this page I declare that this work cites all sources used to make it and that this \nwork was done by me. I declare that all the work has been redact ed by me except the \nparagraphs that are written in cursive characters and which have t he exact link to the \nplace they were taken from. All the imagines and diagrams have t hey own links to the \nsou\n...\nSuccessfully downloaded document_3.pdf\n\nContent of document_3.pdf:\nBluetooth 4.0: Low Energy\nJoe Decuir\nStandards Architect , CSR Technolo gy\n ,g y\nCouncilor, Bluetooth Architecture Review BoardIEEE Region 6 Northwest Area chair \n\nAgenda\nAgenda\nWireless Applications Perspective\nHow do wireless devices spend energy?\nWhat is ‘classic’ Bluetooth?\nWh t i  Bl t th L  E ?\nWhat is Bluetooth Low Energy ?\nHow do the components work?\nHow low is the energy?\nHow low is the energy?\nPerspective: how does ZigBee & 802.15.4 work?\nWhat is Bluetooth Low Energy good for?\nWhat is \n...\n\nTotal documents processed: 3\n"
     ]
    }
   ],
   "source": [
    "import openai\n",
    "import requests\n",
    "import os\n",
    "import PyPDF2\n",
    "from bs4 import BeautifulSoup\n",
    "\n",
    "# Azure OpenAI configuration\n",
    "openai.api_type = \"azure\"\n",
    "openai.api_base = \"https://gen-ai-certification-open-ai.openai.azure.com/\"\n",
    "openai.api_version = \"2024-08-01-preview\"\n",
    "openai.api_key = \"43kYkbFzKypJBbZVFb5r2BwTaW1TKb6gVdJ2Ry13B6nncjRXx7QjJQQJ99AKAC77bzfXJ3w3AAABACOGlQDL\"\n",
    "\n",
    "def search_pdfs(query, num_results=3):\n",
    "    search_urls = [\n",
    "        f\"https://en.wikipedia.org/w/index.php?search={query}+filetype:pdf&title=Special:Search&profile=advanced&fulltext=1&ns0=1\",\n",
    "        f\"https://scholar.google.com/scholar?q={query}+filetype:pdf\",\n",
    "        f\"https://www.researchgate.net/search/publication?q={query}\"\n",
    "    ]\n",
    "    \n",
    "    pdf_urls = []\n",
    "    for search_url in search_urls:\n",
    "        response = requests.get(search_url)\n",
    "        soup = BeautifulSoup(response.content, 'html.parser')\n",
    "        pdf_links = soup.find_all('a', href=lambda href: href and href.lower().endswith('.pdf'))\n",
    "        pdf_urls.extend([link['href'] for link in pdf_links])\n",
    "        if len(pdf_urls) >= num_results:\n",
    "            break\n",
    "    \n",
    "    return pdf_urls[:num_results]\n",
    "\n",
    "def download_pdf(url, filename):\n",
    "    response = requests.get(url)\n",
    "    if response.status_code == 200:\n",
    "        with open(filename, 'wb') as f:\n",
    "            f.write(response.content)\n",
    "        print(f\"Successfully downloaded {filename}\")\n",
    "        return True\n",
    "    else:\n",
    "        print(f\"Failed to download {url}. Status code: {response.status_code}\")\n",
    "        return False\n",
    "\n",
    "def extract_text_from_pdf(filename):\n",
    "    text = \"\"\n",
    "    try:\n",
    "        with open(filename, 'rb') as file:\n",
    "            reader = PyPDF2.PdfReader(file)\n",
    "            for page in reader.pages:\n",
    "                text += page.extract_text() + \"\\n\"\n",
    "    except Exception as e:\n",
    "        print(f\"Error reading {filename}: {str(e)}\")\n",
    "    return text\n",
    "\n",
    "# Main execution\n",
    "user_prompt = input(\"Enter your search prompt: \")\n",
    "pdf_urls = search_pdfs(user_prompt)\n",
    "\n",
    "dataset = []\n",
    "\n",
    "for i, url in enumerate(pdf_urls):\n",
    "    filename = f\"document_{i+1}.pdf\"\n",
    "    \n",
    "    if download_pdf(url, filename):\n",
    "        text = extract_text_from_pdf(filename)\n",
    "        dataset.append({\n",
    "            \"document_id\": i + 1,\n",
    "            \"text\": text,\n",
    "        })\n",
    "        \n",
    "        print(f\"\\nContent of {filename}:\")\n",
    "        print(text[:500])  # Print first 500 characters\n",
    "        print(\"...\")\n",
    "        \n",
    "        os.remove(filename)\n",
    "\n",
    "print(f\"\\nTotal documents processed: {len(dataset)}\")\n",
    "\n",
    "## gives information correctly mostly related to techonoloigcal content"
   ]
  },
  {
   "cell_type": "code",
   "execution_count": 0,
   "metadata": {
    "application/vnd.databricks.v1+cell": {
     "cellMetadata": {},
     "inputWidgets": {},
     "nuid": "933960d6-1092-4d8c-97f4-ae96b53e40cf",
     "showTitle": false,
     "tableResultSettingsMap": {},
     "title": ""
    }
   },
   "outputs": [],
   "source": []
  },
  {
   "cell_type": "code",
   "execution_count": 0,
   "metadata": {
    "application/vnd.databricks.v1+cell": {
     "cellMetadata": {},
     "inputWidgets": {},
     "nuid": "6e2191bc-168b-4620-bf02-82948fd23e48",
     "showTitle": false,
     "tableResultSettingsMap": {},
     "title": ""
    }
   },
   "outputs": [],
   "source": []
  },
  {
   "cell_type": "code",
   "execution_count": 0,
   "metadata": {
    "application/vnd.databricks.v1+cell": {
     "cellMetadata": {},
     "inputWidgets": {},
     "nuid": "5752e4f2-372c-4af8-8622-463200a67f58",
     "showTitle": false,
     "tableResultSettingsMap": {},
     "title": ""
    }
   },
   "outputs": [],
   "source": []
  },
  {
   "cell_type": "code",
   "execution_count": 0,
   "metadata": {
    "application/vnd.databricks.v1+cell": {
     "cellMetadata": {},
     "inputWidgets": {},
     "nuid": "c13ad9dc-9cf1-4fd6-a4b9-3fb21b0c7c8c",
     "showTitle": false,
     "tableResultSettingsMap": {},
     "title": ""
    }
   },
   "outputs": [],
   "source": []
  },
  {
   "cell_type": "code",
   "execution_count": 0,
   "metadata": {
    "application/vnd.databricks.v1+cell": {
     "cellMetadata": {},
     "inputWidgets": {},
     "nuid": "9ac2bd99-4ccb-4449-a2b2-000199547b38",
     "showTitle": false,
     "tableResultSettingsMap": {},
     "title": ""
    }
   },
   "outputs": [],
   "source": []
  }
 ],
 "metadata": {
  "application/vnd.databricks.v1+notebook": {
   "dashboards": [],
   "environmentMetadata": {
    "base_environment": "",
    "client": "1"
   },
   "language": "python",
   "notebookMetadata": {
    "pythonIndentUnit": 4
   },
   "notebookName": "Assignmenr 3- Dataset Generator for RAG",
   "widgets": {}
  },
  "language_info": {
   "name": "python"
  }
 },
 "nbformat": 4,
 "nbformat_minor": 0
}